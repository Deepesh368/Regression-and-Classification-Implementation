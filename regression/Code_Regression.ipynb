{
 "cells": [
  {
   "cell_type": "code",
   "execution_count": 1,
   "id": "b016c6eb",
   "metadata": {
    "scrolled": true
   },
   "outputs": [],
   "source": [
    "import numpy as np\n",
    "import pandas as pd\n",
    "import missingno as msno\n",
    "import matplotlib.pyplot as plt \n",
    "from sklearn.metrics import mean_squared_error, mean_absolute_error, accuracy_score\n",
    "\n",
    "dataset = pd.read_csv(\"./Life Expectancy Data.csv\")"
   ]
  },
  {
   "cell_type": "markdown",
   "id": "3bbea5da",
   "metadata": {},
   "source": [
    "# Data Preprocessing:"
   ]
  },
  {
   "cell_type": "code",
   "execution_count": 2,
   "id": "fa884449",
   "metadata": {},
   "outputs": [
    {
     "data": {
      "text/html": [
       "<div>\n",
       "<style scoped>\n",
       "    .dataframe tbody tr th:only-of-type {\n",
       "        vertical-align: middle;\n",
       "    }\n",
       "\n",
       "    .dataframe tbody tr th {\n",
       "        vertical-align: top;\n",
       "    }\n",
       "\n",
       "    .dataframe thead th {\n",
       "        text-align: right;\n",
       "    }\n",
       "</style>\n",
       "<table border=\"1\" class=\"dataframe\">\n",
       "  <thead>\n",
       "    <tr style=\"text-align: right;\">\n",
       "      <th></th>\n",
       "      <th>Country</th>\n",
       "      <th>Year</th>\n",
       "      <th>Status</th>\n",
       "      <th>Life expectancy</th>\n",
       "      <th>Adult Mortality</th>\n",
       "      <th>infant deaths</th>\n",
       "      <th>Alcohol</th>\n",
       "      <th>percentage expenditure</th>\n",
       "      <th>Hepatitis B</th>\n",
       "      <th>Measles</th>\n",
       "      <th>...</th>\n",
       "      <th>Polio</th>\n",
       "      <th>Total expenditure</th>\n",
       "      <th>Diphtheria</th>\n",
       "      <th>HIV/AIDS</th>\n",
       "      <th>GDP</th>\n",
       "      <th>Population</th>\n",
       "      <th>thinness  1-19 years</th>\n",
       "      <th>thinness 5-9 years</th>\n",
       "      <th>Income composition of resources</th>\n",
       "      <th>Schooling</th>\n",
       "    </tr>\n",
       "  </thead>\n",
       "  <tbody>\n",
       "    <tr>\n",
       "      <th>0</th>\n",
       "      <td>Afghanistan</td>\n",
       "      <td>2015</td>\n",
       "      <td>Developing</td>\n",
       "      <td>65.0</td>\n",
       "      <td>263.0</td>\n",
       "      <td>62</td>\n",
       "      <td>0.01</td>\n",
       "      <td>71.279624</td>\n",
       "      <td>65.0</td>\n",
       "      <td>1154</td>\n",
       "      <td>...</td>\n",
       "      <td>6.0</td>\n",
       "      <td>8.16</td>\n",
       "      <td>65.0</td>\n",
       "      <td>0.1</td>\n",
       "      <td>584.259210</td>\n",
       "      <td>33736494.0</td>\n",
       "      <td>17.2</td>\n",
       "      <td>17.3</td>\n",
       "      <td>0.479</td>\n",
       "      <td>10.1</td>\n",
       "    </tr>\n",
       "    <tr>\n",
       "      <th>1</th>\n",
       "      <td>Afghanistan</td>\n",
       "      <td>2014</td>\n",
       "      <td>Developing</td>\n",
       "      <td>59.9</td>\n",
       "      <td>271.0</td>\n",
       "      <td>64</td>\n",
       "      <td>0.01</td>\n",
       "      <td>73.523582</td>\n",
       "      <td>62.0</td>\n",
       "      <td>492</td>\n",
       "      <td>...</td>\n",
       "      <td>58.0</td>\n",
       "      <td>8.18</td>\n",
       "      <td>62.0</td>\n",
       "      <td>0.1</td>\n",
       "      <td>612.696514</td>\n",
       "      <td>327582.0</td>\n",
       "      <td>17.5</td>\n",
       "      <td>17.5</td>\n",
       "      <td>0.476</td>\n",
       "      <td>10.0</td>\n",
       "    </tr>\n",
       "    <tr>\n",
       "      <th>2</th>\n",
       "      <td>Afghanistan</td>\n",
       "      <td>2013</td>\n",
       "      <td>Developing</td>\n",
       "      <td>59.9</td>\n",
       "      <td>268.0</td>\n",
       "      <td>66</td>\n",
       "      <td>0.01</td>\n",
       "      <td>73.219243</td>\n",
       "      <td>64.0</td>\n",
       "      <td>430</td>\n",
       "      <td>...</td>\n",
       "      <td>62.0</td>\n",
       "      <td>8.13</td>\n",
       "      <td>64.0</td>\n",
       "      <td>0.1</td>\n",
       "      <td>631.744976</td>\n",
       "      <td>31731688.0</td>\n",
       "      <td>17.7</td>\n",
       "      <td>17.7</td>\n",
       "      <td>0.470</td>\n",
       "      <td>9.9</td>\n",
       "    </tr>\n",
       "    <tr>\n",
       "      <th>3</th>\n",
       "      <td>Afghanistan</td>\n",
       "      <td>2012</td>\n",
       "      <td>Developing</td>\n",
       "      <td>59.5</td>\n",
       "      <td>272.0</td>\n",
       "      <td>69</td>\n",
       "      <td>0.01</td>\n",
       "      <td>78.184215</td>\n",
       "      <td>67.0</td>\n",
       "      <td>2787</td>\n",
       "      <td>...</td>\n",
       "      <td>67.0</td>\n",
       "      <td>8.52</td>\n",
       "      <td>67.0</td>\n",
       "      <td>0.1</td>\n",
       "      <td>669.959000</td>\n",
       "      <td>3696958.0</td>\n",
       "      <td>17.9</td>\n",
       "      <td>18.0</td>\n",
       "      <td>0.463</td>\n",
       "      <td>9.8</td>\n",
       "    </tr>\n",
       "    <tr>\n",
       "      <th>4</th>\n",
       "      <td>Afghanistan</td>\n",
       "      <td>2011</td>\n",
       "      <td>Developing</td>\n",
       "      <td>59.2</td>\n",
       "      <td>275.0</td>\n",
       "      <td>71</td>\n",
       "      <td>0.01</td>\n",
       "      <td>7.097109</td>\n",
       "      <td>68.0</td>\n",
       "      <td>3013</td>\n",
       "      <td>...</td>\n",
       "      <td>68.0</td>\n",
       "      <td>7.87</td>\n",
       "      <td>68.0</td>\n",
       "      <td>0.1</td>\n",
       "      <td>63.537231</td>\n",
       "      <td>2978599.0</td>\n",
       "      <td>18.2</td>\n",
       "      <td>18.2</td>\n",
       "      <td>0.454</td>\n",
       "      <td>9.5</td>\n",
       "    </tr>\n",
       "  </tbody>\n",
       "</table>\n",
       "<p>5 rows × 22 columns</p>\n",
       "</div>"
      ],
      "text/plain": [
       "       Country  Year      Status  Life expectancy   Adult Mortality  \\\n",
       "0  Afghanistan  2015  Developing              65.0            263.0   \n",
       "1  Afghanistan  2014  Developing              59.9            271.0   \n",
       "2  Afghanistan  2013  Developing              59.9            268.0   \n",
       "3  Afghanistan  2012  Developing              59.5            272.0   \n",
       "4  Afghanistan  2011  Developing              59.2            275.0   \n",
       "\n",
       "   infant deaths  Alcohol  percentage expenditure  Hepatitis B  Measles   ...  \\\n",
       "0             62     0.01               71.279624         65.0      1154  ...   \n",
       "1             64     0.01               73.523582         62.0       492  ...   \n",
       "2             66     0.01               73.219243         64.0       430  ...   \n",
       "3             69     0.01               78.184215         67.0      2787  ...   \n",
       "4             71     0.01                7.097109         68.0      3013  ...   \n",
       "\n",
       "   Polio  Total expenditure  Diphtheria    HIV/AIDS         GDP  Population  \\\n",
       "0    6.0               8.16         65.0        0.1  584.259210  33736494.0   \n",
       "1   58.0               8.18         62.0        0.1  612.696514    327582.0   \n",
       "2   62.0               8.13         64.0        0.1  631.744976  31731688.0   \n",
       "3   67.0               8.52         67.0        0.1  669.959000   3696958.0   \n",
       "4   68.0               7.87         68.0        0.1   63.537231   2978599.0   \n",
       "\n",
       "    thinness  1-19 years   thinness 5-9 years  \\\n",
       "0                   17.2                 17.3   \n",
       "1                   17.5                 17.5   \n",
       "2                   17.7                 17.7   \n",
       "3                   17.9                 18.0   \n",
       "4                   18.2                 18.2   \n",
       "\n",
       "   Income composition of resources  Schooling  \n",
       "0                            0.479       10.1  \n",
       "1                            0.476       10.0  \n",
       "2                            0.470        9.9  \n",
       "3                            0.463        9.8  \n",
       "4                            0.454        9.5  \n",
       "\n",
       "[5 rows x 22 columns]"
      ]
     },
     "execution_count": 2,
     "metadata": {},
     "output_type": "execute_result"
    }
   ],
   "source": [
    "dataset.head()"
   ]
  },
  {
   "cell_type": "code",
   "execution_count": 3,
   "id": "bb69cdb8",
   "metadata": {
    "scrolled": true
   },
   "outputs": [
    {
     "data": {
      "text/html": [
       "<div>\n",
       "<style scoped>\n",
       "    .dataframe tbody tr th:only-of-type {\n",
       "        vertical-align: middle;\n",
       "    }\n",
       "\n",
       "    .dataframe tbody tr th {\n",
       "        vertical-align: top;\n",
       "    }\n",
       "\n",
       "    .dataframe thead th {\n",
       "        text-align: right;\n",
       "    }\n",
       "</style>\n",
       "<table border=\"1\" class=\"dataframe\">\n",
       "  <thead>\n",
       "    <tr style=\"text-align: right;\">\n",
       "      <th></th>\n",
       "      <th>Year</th>\n",
       "      <th>Life expectancy</th>\n",
       "      <th>Adult Mortality</th>\n",
       "      <th>infant deaths</th>\n",
       "      <th>Alcohol</th>\n",
       "      <th>percentage expenditure</th>\n",
       "      <th>Hepatitis B</th>\n",
       "      <th>Measles</th>\n",
       "      <th>BMI</th>\n",
       "      <th>under-five deaths</th>\n",
       "      <th>Polio</th>\n",
       "      <th>Total expenditure</th>\n",
       "      <th>Diphtheria</th>\n",
       "      <th>HIV/AIDS</th>\n",
       "      <th>GDP</th>\n",
       "      <th>Population</th>\n",
       "      <th>thinness  1-19 years</th>\n",
       "      <th>thinness 5-9 years</th>\n",
       "      <th>Income composition of resources</th>\n",
       "      <th>Schooling</th>\n",
       "    </tr>\n",
       "  </thead>\n",
       "  <tbody>\n",
       "    <tr>\n",
       "      <th>count</th>\n",
       "      <td>2938.000000</td>\n",
       "      <td>2928.000000</td>\n",
       "      <td>2928.000000</td>\n",
       "      <td>2938.000000</td>\n",
       "      <td>2744.000000</td>\n",
       "      <td>2938.000000</td>\n",
       "      <td>2385.000000</td>\n",
       "      <td>2938.000000</td>\n",
       "      <td>2904.000000</td>\n",
       "      <td>2938.000000</td>\n",
       "      <td>2919.000000</td>\n",
       "      <td>2712.00000</td>\n",
       "      <td>2919.000000</td>\n",
       "      <td>2938.000000</td>\n",
       "      <td>2490.000000</td>\n",
       "      <td>2.286000e+03</td>\n",
       "      <td>2904.000000</td>\n",
       "      <td>2904.000000</td>\n",
       "      <td>2771.000000</td>\n",
       "      <td>2775.000000</td>\n",
       "    </tr>\n",
       "    <tr>\n",
       "      <th>mean</th>\n",
       "      <td>2007.518720</td>\n",
       "      <td>69.224932</td>\n",
       "      <td>164.796448</td>\n",
       "      <td>30.303948</td>\n",
       "      <td>4.602861</td>\n",
       "      <td>738.251295</td>\n",
       "      <td>80.940461</td>\n",
       "      <td>2419.592240</td>\n",
       "      <td>38.321247</td>\n",
       "      <td>42.035739</td>\n",
       "      <td>82.550188</td>\n",
       "      <td>5.93819</td>\n",
       "      <td>82.324084</td>\n",
       "      <td>1.742103</td>\n",
       "      <td>7483.158469</td>\n",
       "      <td>1.275338e+07</td>\n",
       "      <td>4.839704</td>\n",
       "      <td>4.870317</td>\n",
       "      <td>0.627551</td>\n",
       "      <td>11.992793</td>\n",
       "    </tr>\n",
       "    <tr>\n",
       "      <th>std</th>\n",
       "      <td>4.613841</td>\n",
       "      <td>9.523867</td>\n",
       "      <td>124.292079</td>\n",
       "      <td>117.926501</td>\n",
       "      <td>4.052413</td>\n",
       "      <td>1987.914858</td>\n",
       "      <td>25.070016</td>\n",
       "      <td>11467.272489</td>\n",
       "      <td>20.044034</td>\n",
       "      <td>160.445548</td>\n",
       "      <td>23.428046</td>\n",
       "      <td>2.49832</td>\n",
       "      <td>23.716912</td>\n",
       "      <td>5.077785</td>\n",
       "      <td>14270.169342</td>\n",
       "      <td>6.101210e+07</td>\n",
       "      <td>4.420195</td>\n",
       "      <td>4.508882</td>\n",
       "      <td>0.210904</td>\n",
       "      <td>3.358920</td>\n",
       "    </tr>\n",
       "    <tr>\n",
       "      <th>min</th>\n",
       "      <td>2000.000000</td>\n",
       "      <td>36.300000</td>\n",
       "      <td>1.000000</td>\n",
       "      <td>0.000000</td>\n",
       "      <td>0.010000</td>\n",
       "      <td>0.000000</td>\n",
       "      <td>1.000000</td>\n",
       "      <td>0.000000</td>\n",
       "      <td>1.000000</td>\n",
       "      <td>0.000000</td>\n",
       "      <td>3.000000</td>\n",
       "      <td>0.37000</td>\n",
       "      <td>2.000000</td>\n",
       "      <td>0.100000</td>\n",
       "      <td>1.681350</td>\n",
       "      <td>3.400000e+01</td>\n",
       "      <td>0.100000</td>\n",
       "      <td>0.100000</td>\n",
       "      <td>0.000000</td>\n",
       "      <td>0.000000</td>\n",
       "    </tr>\n",
       "    <tr>\n",
       "      <th>25%</th>\n",
       "      <td>2004.000000</td>\n",
       "      <td>63.100000</td>\n",
       "      <td>74.000000</td>\n",
       "      <td>0.000000</td>\n",
       "      <td>0.877500</td>\n",
       "      <td>4.685343</td>\n",
       "      <td>77.000000</td>\n",
       "      <td>0.000000</td>\n",
       "      <td>19.300000</td>\n",
       "      <td>0.000000</td>\n",
       "      <td>78.000000</td>\n",
       "      <td>4.26000</td>\n",
       "      <td>78.000000</td>\n",
       "      <td>0.100000</td>\n",
       "      <td>463.935626</td>\n",
       "      <td>1.957932e+05</td>\n",
       "      <td>1.600000</td>\n",
       "      <td>1.500000</td>\n",
       "      <td>0.493000</td>\n",
       "      <td>10.100000</td>\n",
       "    </tr>\n",
       "    <tr>\n",
       "      <th>50%</th>\n",
       "      <td>2008.000000</td>\n",
       "      <td>72.100000</td>\n",
       "      <td>144.000000</td>\n",
       "      <td>3.000000</td>\n",
       "      <td>3.755000</td>\n",
       "      <td>64.912906</td>\n",
       "      <td>92.000000</td>\n",
       "      <td>17.000000</td>\n",
       "      <td>43.500000</td>\n",
       "      <td>4.000000</td>\n",
       "      <td>93.000000</td>\n",
       "      <td>5.75500</td>\n",
       "      <td>93.000000</td>\n",
       "      <td>0.100000</td>\n",
       "      <td>1766.947595</td>\n",
       "      <td>1.386542e+06</td>\n",
       "      <td>3.300000</td>\n",
       "      <td>3.300000</td>\n",
       "      <td>0.677000</td>\n",
       "      <td>12.300000</td>\n",
       "    </tr>\n",
       "    <tr>\n",
       "      <th>75%</th>\n",
       "      <td>2012.000000</td>\n",
       "      <td>75.700000</td>\n",
       "      <td>228.000000</td>\n",
       "      <td>22.000000</td>\n",
       "      <td>7.702500</td>\n",
       "      <td>441.534144</td>\n",
       "      <td>97.000000</td>\n",
       "      <td>360.250000</td>\n",
       "      <td>56.200000</td>\n",
       "      <td>28.000000</td>\n",
       "      <td>97.000000</td>\n",
       "      <td>7.49250</td>\n",
       "      <td>97.000000</td>\n",
       "      <td>0.800000</td>\n",
       "      <td>5910.806335</td>\n",
       "      <td>7.420359e+06</td>\n",
       "      <td>7.200000</td>\n",
       "      <td>7.200000</td>\n",
       "      <td>0.779000</td>\n",
       "      <td>14.300000</td>\n",
       "    </tr>\n",
       "    <tr>\n",
       "      <th>max</th>\n",
       "      <td>2015.000000</td>\n",
       "      <td>89.000000</td>\n",
       "      <td>723.000000</td>\n",
       "      <td>1800.000000</td>\n",
       "      <td>17.870000</td>\n",
       "      <td>19479.911610</td>\n",
       "      <td>99.000000</td>\n",
       "      <td>212183.000000</td>\n",
       "      <td>87.300000</td>\n",
       "      <td>2500.000000</td>\n",
       "      <td>99.000000</td>\n",
       "      <td>17.60000</td>\n",
       "      <td>99.000000</td>\n",
       "      <td>50.600000</td>\n",
       "      <td>119172.741800</td>\n",
       "      <td>1.293859e+09</td>\n",
       "      <td>27.700000</td>\n",
       "      <td>28.600000</td>\n",
       "      <td>0.948000</td>\n",
       "      <td>20.700000</td>\n",
       "    </tr>\n",
       "  </tbody>\n",
       "</table>\n",
       "</div>"
      ],
      "text/plain": [
       "              Year  Life expectancy   Adult Mortality  infant deaths  \\\n",
       "count  2938.000000       2928.000000      2928.000000    2938.000000   \n",
       "mean   2007.518720         69.224932       164.796448      30.303948   \n",
       "std       4.613841          9.523867       124.292079     117.926501   \n",
       "min    2000.000000         36.300000         1.000000       0.000000   \n",
       "25%    2004.000000         63.100000        74.000000       0.000000   \n",
       "50%    2008.000000         72.100000       144.000000       3.000000   \n",
       "75%    2012.000000         75.700000       228.000000      22.000000   \n",
       "max    2015.000000         89.000000       723.000000    1800.000000   \n",
       "\n",
       "           Alcohol  percentage expenditure  Hepatitis B       Measles   \\\n",
       "count  2744.000000             2938.000000  2385.000000    2938.000000   \n",
       "mean      4.602861              738.251295    80.940461    2419.592240   \n",
       "std       4.052413             1987.914858    25.070016   11467.272489   \n",
       "min       0.010000                0.000000     1.000000       0.000000   \n",
       "25%       0.877500                4.685343    77.000000       0.000000   \n",
       "50%       3.755000               64.912906    92.000000      17.000000   \n",
       "75%       7.702500              441.534144    97.000000     360.250000   \n",
       "max      17.870000            19479.911610    99.000000  212183.000000   \n",
       "\n",
       "              BMI   under-five deaths         Polio  Total expenditure  \\\n",
       "count  2904.000000         2938.000000  2919.000000         2712.00000   \n",
       "mean     38.321247           42.035739    82.550188            5.93819   \n",
       "std      20.044034          160.445548    23.428046            2.49832   \n",
       "min       1.000000            0.000000     3.000000            0.37000   \n",
       "25%      19.300000            0.000000    78.000000            4.26000   \n",
       "50%      43.500000            4.000000    93.000000            5.75500   \n",
       "75%      56.200000           28.000000    97.000000            7.49250   \n",
       "max      87.300000         2500.000000    99.000000           17.60000   \n",
       "\n",
       "       Diphtheria      HIV/AIDS            GDP    Population  \\\n",
       "count  2919.000000  2938.000000    2490.000000  2.286000e+03   \n",
       "mean     82.324084     1.742103    7483.158469  1.275338e+07   \n",
       "std      23.716912     5.077785   14270.169342  6.101210e+07   \n",
       "min       2.000000     0.100000       1.681350  3.400000e+01   \n",
       "25%      78.000000     0.100000     463.935626  1.957932e+05   \n",
       "50%      93.000000     0.100000    1766.947595  1.386542e+06   \n",
       "75%      97.000000     0.800000    5910.806335  7.420359e+06   \n",
       "max      99.000000    50.600000  119172.741800  1.293859e+09   \n",
       "\n",
       "        thinness  1-19 years   thinness 5-9 years  \\\n",
       "count            2904.000000          2904.000000   \n",
       "mean                4.839704             4.870317   \n",
       "std                 4.420195             4.508882   \n",
       "min                 0.100000             0.100000   \n",
       "25%                 1.600000             1.500000   \n",
       "50%                 3.300000             3.300000   \n",
       "75%                 7.200000             7.200000   \n",
       "max                27.700000            28.600000   \n",
       "\n",
       "       Income composition of resources    Schooling  \n",
       "count                      2771.000000  2775.000000  \n",
       "mean                          0.627551    11.992793  \n",
       "std                           0.210904     3.358920  \n",
       "min                           0.000000     0.000000  \n",
       "25%                           0.493000    10.100000  \n",
       "50%                           0.677000    12.300000  \n",
       "75%                           0.779000    14.300000  \n",
       "max                           0.948000    20.700000  "
      ]
     },
     "execution_count": 3,
     "metadata": {},
     "output_type": "execute_result"
    }
   ],
   "source": [
    "dataset.describe()"
   ]
  },
  {
   "cell_type": "code",
   "execution_count": 4,
   "id": "3391e960",
   "metadata": {},
   "outputs": [
    {
     "data": {
      "text/plain": [
       "Country                              0\n",
       "Year                                 0\n",
       "Status                               0\n",
       "Life expectancy                     10\n",
       "Adult Mortality                     10\n",
       "infant deaths                        0\n",
       "Alcohol                            194\n",
       "percentage expenditure               0\n",
       "Hepatitis B                        553\n",
       "Measles                              0\n",
       " BMI                                34\n",
       "under-five deaths                    0\n",
       "Polio                               19\n",
       "Total expenditure                  226\n",
       "Diphtheria                          19\n",
       " HIV/AIDS                            0\n",
       "GDP                                448\n",
       "Population                         652\n",
       " thinness  1-19 years               34\n",
       " thinness 5-9 years                 34\n",
       "Income composition of resources    167\n",
       "Schooling                          163\n",
       "dtype: int64"
      ]
     },
     "execution_count": 4,
     "metadata": {},
     "output_type": "execute_result"
    }
   ],
   "source": [
    "dataset.isna().sum()"
   ]
  },
  {
   "cell_type": "code",
   "execution_count": 5,
   "id": "f24fe59d",
   "metadata": {
    "scrolled": true
   },
   "outputs": [
    {
     "name": "stdout",
     "output_type": "stream",
     "text": [
      "['Country', 'Year', 'Status', 'Life expectancy ', 'Adult Mortality', 'infant deaths', 'Alcohol', 'percentage expenditure', 'Hepatitis B', 'Measles ', ' BMI ', 'under-five deaths ', 'Polio', 'Total expenditure', 'Diphtheria ', ' HIV/AIDS', 'GDP', 'Population', ' thinness  1-19 years', ' thinness 5-9 years', 'Income composition of resources', 'Schooling']\n"
     ]
    }
   ],
   "source": [
    "print(dataset.columns.tolist())"
   ]
  },
  {
   "cell_type": "markdown",
   "id": "2cf6414a",
   "metadata": {},
   "source": [
    "# Dealing with 'NaN' values:"
   ]
  },
  {
   "cell_type": "code",
   "execution_count": 6,
   "id": "760dbe41",
   "metadata": {
    "scrolled": true
   },
   "outputs": [
    {
     "data": {
      "text/plain": [
       "Country                            0\n",
       "Year                               0\n",
       "Status                             0\n",
       "Life expectancy                    0\n",
       "Adult Mortality                    0\n",
       "infant deaths                      0\n",
       "Alcohol                            0\n",
       "percentage expenditure             0\n",
       "Hepatitis B                        0\n",
       "Measles                            0\n",
       " BMI                               0\n",
       "under-five deaths                  0\n",
       "Polio                              0\n",
       "Total expenditure                  0\n",
       "Diphtheria                         0\n",
       " HIV/AIDS                          0\n",
       "GDP                                0\n",
       "Population                         0\n",
       " thinness  1-19 years              0\n",
       " thinness 5-9 years                0\n",
       "Income composition of resources    0\n",
       "Schooling                          0\n",
       "dtype: int64"
      ]
     },
     "execution_count": 6,
     "metadata": {},
     "output_type": "execute_result"
    }
   ],
   "source": [
    "dataset.drop(axis=\"rows\", labels=dataset.index[dataset[\"Life expectancy \"].isna()], inplace=True)\n",
    "dataset.drop(axis=\"rows\", labels=dataset.index[dataset[\" BMI \"].isna()], inplace=True)\n",
    "dataset.drop(axis=\"rows\", labels=dataset.index[dataset[\"Polio\"].isna()], inplace=True)\n",
    "dataset.drop(axis=\"rows\", labels=dataset.index[dataset[\"Diphtheria \"].isna()], inplace=True)\n",
    "dataset[\"Alcohol\"].fillna(dataset[\"Alcohol\"].median(), inplace=True)\n",
    "dataset[\"Hepatitis B\"].fillna(dataset[\"Hepatitis B\"].median(), inplace=True)\n",
    "dataset[\"Total expenditure\"].fillna(dataset[\"Total expenditure\"].median(), inplace=True)\n",
    "dataset[\"GDP\"].fillna(dataset[\"GDP\"].median(), inplace=True)\n",
    "dataset[\"Population\"].fillna(dataset[\"Population\"].median(), inplace=True)\n",
    "dataset[\"Income composition of resources\"].fillna(dataset[\"Income composition of resources\"].median(), inplace=True)\n",
    "dataset[\"Schooling\"].fillna(dataset[\"Schooling\"].median(), inplace=True)\n",
    "dataset.isna().sum()"
   ]
  },
  {
   "cell_type": "markdown",
   "id": "62abbcb7",
   "metadata": {},
   "source": [
    "# Checking for duplicate columns:"
   ]
  },
  {
   "cell_type": "code",
   "execution_count": 7,
   "id": "c18a1dcd",
   "metadata": {
    "scrolled": true
   },
   "outputs": [
    {
     "data": {
      "text/plain": [
       "Int64Index([], dtype='int64')"
      ]
     },
     "execution_count": 7,
     "metadata": {},
     "output_type": "execute_result"
    }
   ],
   "source": [
    "dataset.index[dataset.duplicated()]"
   ]
  },
  {
   "cell_type": "markdown",
   "id": "90a09c64",
   "metadata": {},
   "source": [
    "# Performing one hot encoding on the Status column:"
   ]
  },
  {
   "cell_type": "code",
   "execution_count": 8,
   "id": "64f0da35",
   "metadata": {},
   "outputs": [
    {
     "data": {
      "text/html": [
       "<div>\n",
       "<style scoped>\n",
       "    .dataframe tbody tr th:only-of-type {\n",
       "        vertical-align: middle;\n",
       "    }\n",
       "\n",
       "    .dataframe tbody tr th {\n",
       "        vertical-align: top;\n",
       "    }\n",
       "\n",
       "    .dataframe thead th {\n",
       "        text-align: right;\n",
       "    }\n",
       "</style>\n",
       "<table border=\"1\" class=\"dataframe\">\n",
       "  <thead>\n",
       "    <tr style=\"text-align: right;\">\n",
       "      <th></th>\n",
       "      <th>Country</th>\n",
       "      <th>Year</th>\n",
       "      <th>Life expectancy</th>\n",
       "      <th>Adult Mortality</th>\n",
       "      <th>infant deaths</th>\n",
       "      <th>Alcohol</th>\n",
       "      <th>percentage expenditure</th>\n",
       "      <th>Hepatitis B</th>\n",
       "      <th>Measles</th>\n",
       "      <th>BMI</th>\n",
       "      <th>...</th>\n",
       "      <th>Diphtheria</th>\n",
       "      <th>HIV/AIDS</th>\n",
       "      <th>GDP</th>\n",
       "      <th>Population</th>\n",
       "      <th>thinness  1-19 years</th>\n",
       "      <th>thinness 5-9 years</th>\n",
       "      <th>Income composition of resources</th>\n",
       "      <th>Schooling</th>\n",
       "      <th>Status_Developed</th>\n",
       "      <th>Status_Developing</th>\n",
       "    </tr>\n",
       "  </thead>\n",
       "  <tbody>\n",
       "    <tr>\n",
       "      <th>0</th>\n",
       "      <td>Afghanistan</td>\n",
       "      <td>2015</td>\n",
       "      <td>65.0</td>\n",
       "      <td>263.0</td>\n",
       "      <td>62</td>\n",
       "      <td>0.01</td>\n",
       "      <td>71.279624</td>\n",
       "      <td>65.0</td>\n",
       "      <td>1154</td>\n",
       "      <td>19.1</td>\n",
       "      <td>...</td>\n",
       "      <td>65.0</td>\n",
       "      <td>0.1</td>\n",
       "      <td>584.259210</td>\n",
       "      <td>33736494.0</td>\n",
       "      <td>17.2</td>\n",
       "      <td>17.3</td>\n",
       "      <td>0.479</td>\n",
       "      <td>10.1</td>\n",
       "      <td>0</td>\n",
       "      <td>1</td>\n",
       "    </tr>\n",
       "    <tr>\n",
       "      <th>1</th>\n",
       "      <td>Afghanistan</td>\n",
       "      <td>2014</td>\n",
       "      <td>59.9</td>\n",
       "      <td>271.0</td>\n",
       "      <td>64</td>\n",
       "      <td>0.01</td>\n",
       "      <td>73.523582</td>\n",
       "      <td>62.0</td>\n",
       "      <td>492</td>\n",
       "      <td>18.6</td>\n",
       "      <td>...</td>\n",
       "      <td>62.0</td>\n",
       "      <td>0.1</td>\n",
       "      <td>612.696514</td>\n",
       "      <td>327582.0</td>\n",
       "      <td>17.5</td>\n",
       "      <td>17.5</td>\n",
       "      <td>0.476</td>\n",
       "      <td>10.0</td>\n",
       "      <td>0</td>\n",
       "      <td>1</td>\n",
       "    </tr>\n",
       "    <tr>\n",
       "      <th>2</th>\n",
       "      <td>Afghanistan</td>\n",
       "      <td>2013</td>\n",
       "      <td>59.9</td>\n",
       "      <td>268.0</td>\n",
       "      <td>66</td>\n",
       "      <td>0.01</td>\n",
       "      <td>73.219243</td>\n",
       "      <td>64.0</td>\n",
       "      <td>430</td>\n",
       "      <td>18.1</td>\n",
       "      <td>...</td>\n",
       "      <td>64.0</td>\n",
       "      <td>0.1</td>\n",
       "      <td>631.744976</td>\n",
       "      <td>31731688.0</td>\n",
       "      <td>17.7</td>\n",
       "      <td>17.7</td>\n",
       "      <td>0.470</td>\n",
       "      <td>9.9</td>\n",
       "      <td>0</td>\n",
       "      <td>1</td>\n",
       "    </tr>\n",
       "    <tr>\n",
       "      <th>3</th>\n",
       "      <td>Afghanistan</td>\n",
       "      <td>2012</td>\n",
       "      <td>59.5</td>\n",
       "      <td>272.0</td>\n",
       "      <td>69</td>\n",
       "      <td>0.01</td>\n",
       "      <td>78.184215</td>\n",
       "      <td>67.0</td>\n",
       "      <td>2787</td>\n",
       "      <td>17.6</td>\n",
       "      <td>...</td>\n",
       "      <td>67.0</td>\n",
       "      <td>0.1</td>\n",
       "      <td>669.959000</td>\n",
       "      <td>3696958.0</td>\n",
       "      <td>17.9</td>\n",
       "      <td>18.0</td>\n",
       "      <td>0.463</td>\n",
       "      <td>9.8</td>\n",
       "      <td>0</td>\n",
       "      <td>1</td>\n",
       "    </tr>\n",
       "    <tr>\n",
       "      <th>4</th>\n",
       "      <td>Afghanistan</td>\n",
       "      <td>2011</td>\n",
       "      <td>59.2</td>\n",
       "      <td>275.0</td>\n",
       "      <td>71</td>\n",
       "      <td>0.01</td>\n",
       "      <td>7.097109</td>\n",
       "      <td>68.0</td>\n",
       "      <td>3013</td>\n",
       "      <td>17.2</td>\n",
       "      <td>...</td>\n",
       "      <td>68.0</td>\n",
       "      <td>0.1</td>\n",
       "      <td>63.537231</td>\n",
       "      <td>2978599.0</td>\n",
       "      <td>18.2</td>\n",
       "      <td>18.2</td>\n",
       "      <td>0.454</td>\n",
       "      <td>9.5</td>\n",
       "      <td>0</td>\n",
       "      <td>1</td>\n",
       "    </tr>\n",
       "  </tbody>\n",
       "</table>\n",
       "<p>5 rows × 23 columns</p>\n",
       "</div>"
      ],
      "text/plain": [
       "       Country  Year  Life expectancy   Adult Mortality  infant deaths  \\\n",
       "0  Afghanistan  2015              65.0            263.0             62   \n",
       "1  Afghanistan  2014              59.9            271.0             64   \n",
       "2  Afghanistan  2013              59.9            268.0             66   \n",
       "3  Afghanistan  2012              59.5            272.0             69   \n",
       "4  Afghanistan  2011              59.2            275.0             71   \n",
       "\n",
       "   Alcohol  percentage expenditure  Hepatitis B  Measles    BMI   ...  \\\n",
       "0     0.01               71.279624         65.0      1154   19.1  ...   \n",
       "1     0.01               73.523582         62.0       492   18.6  ...   \n",
       "2     0.01               73.219243         64.0       430   18.1  ...   \n",
       "3     0.01               78.184215         67.0      2787   17.6  ...   \n",
       "4     0.01                7.097109         68.0      3013   17.2  ...   \n",
       "\n",
       "   Diphtheria    HIV/AIDS         GDP  Population   thinness  1-19 years  \\\n",
       "0         65.0        0.1  584.259210  33736494.0                   17.2   \n",
       "1         62.0        0.1  612.696514    327582.0                   17.5   \n",
       "2         64.0        0.1  631.744976  31731688.0                   17.7   \n",
       "3         67.0        0.1  669.959000   3696958.0                   17.9   \n",
       "4         68.0        0.1   63.537231   2978599.0                   18.2   \n",
       "\n",
       "    thinness 5-9 years  Income composition of resources  Schooling  \\\n",
       "0                 17.3                            0.479       10.1   \n",
       "1                 17.5                            0.476       10.0   \n",
       "2                 17.7                            0.470        9.9   \n",
       "3                 18.0                            0.463        9.8   \n",
       "4                 18.2                            0.454        9.5   \n",
       "\n",
       "   Status_Developed  Status_Developing  \n",
       "0                 0                  1  \n",
       "1                 0                  1  \n",
       "2                 0                  1  \n",
       "3                 0                  1  \n",
       "4                 0                  1  \n",
       "\n",
       "[5 rows x 23 columns]"
      ]
     },
     "execution_count": 8,
     "metadata": {},
     "output_type": "execute_result"
    }
   ],
   "source": [
    "column_names_to_one_hot = [\"Status\"]\n",
    "dataset = pd.get_dummies(dataset, columns = column_names_to_one_hot)\n",
    "dataset.head()"
   ]
  },
  {
   "cell_type": "markdown",
   "id": "1e313071",
   "metadata": {},
   "source": [
    "# Checking for '?' values:"
   ]
  },
  {
   "cell_type": "code",
   "execution_count": 9,
   "id": "91edec3d",
   "metadata": {},
   "outputs": [
    {
     "data": {
      "text/plain": [
       "Country                            0\n",
       "Year                               0\n",
       "Life expectancy                    0\n",
       "Adult Mortality                    0\n",
       "infant deaths                      0\n",
       "Alcohol                            0\n",
       "percentage expenditure             0\n",
       "Hepatitis B                        0\n",
       "Measles                            0\n",
       " BMI                               0\n",
       "under-five deaths                  0\n",
       "Polio                              0\n",
       "Total expenditure                  0\n",
       "Diphtheria                         0\n",
       " HIV/AIDS                          0\n",
       "GDP                                0\n",
       "Population                         0\n",
       " thinness  1-19 years              0\n",
       " thinness 5-9 years                0\n",
       "Income composition of resources    0\n",
       "Schooling                          0\n",
       "Status_Developed                   0\n",
       "Status_Developing                  0\n",
       "dtype: int64"
      ]
     },
     "execution_count": 9,
     "metadata": {},
     "output_type": "execute_result"
    }
   ],
   "source": [
    "(dataset == \"?\").sum()"
   ]
  },
  {
   "cell_type": "code",
   "execution_count": 10,
   "id": "78ba5cef",
   "metadata": {},
   "outputs": [],
   "source": [
    "dataset.drop(axis=\"columns\", labels=\"Country\", inplace=True)"
   ]
  },
  {
   "cell_type": "code",
   "execution_count": 11,
   "id": "36ed90e7",
   "metadata": {
    "scrolled": false
   },
   "outputs": [
    {
     "data": {
      "text/plain": [
       "array([[2.01500000e+03, 6.50000000e+01, 2.63000000e+02, 6.20000000e+01,\n",
       "        1.00000000e-02, 7.12796236e+01, 6.50000000e+01, 1.15400000e+03,\n",
       "        1.91000000e+01, 8.30000000e+01, 6.00000000e+00, 8.16000000e+00,\n",
       "        6.50000000e+01, 1.00000000e-01, 5.84259210e+02, 3.37364940e+07,\n",
       "        1.72000000e+01, 1.73000000e+01, 4.79000000e-01, 1.01000000e+01,\n",
       "        0.00000000e+00, 1.00000000e+00],\n",
       "       [2.01400000e+03, 5.99000000e+01, 2.71000000e+02, 6.40000000e+01,\n",
       "        1.00000000e-02, 7.35235817e+01, 6.20000000e+01, 4.92000000e+02,\n",
       "        1.86000000e+01, 8.60000000e+01, 5.80000000e+01, 8.18000000e+00,\n",
       "        6.20000000e+01, 1.00000000e-01, 6.12696514e+02, 3.27582000e+05,\n",
       "        1.75000000e+01, 1.75000000e+01, 4.76000000e-01, 1.00000000e+01,\n",
       "        0.00000000e+00, 1.00000000e+00],\n",
       "       [2.01300000e+03, 5.99000000e+01, 2.68000000e+02, 6.60000000e+01,\n",
       "        1.00000000e-02, 7.32192427e+01, 6.40000000e+01, 4.30000000e+02,\n",
       "        1.81000000e+01, 8.90000000e+01, 6.20000000e+01, 8.13000000e+00,\n",
       "        6.40000000e+01, 1.00000000e-01, 6.31744976e+02, 3.17316880e+07,\n",
       "        1.77000000e+01, 1.77000000e+01, 4.70000000e-01, 9.90000000e+00,\n",
       "        0.00000000e+00, 1.00000000e+00],\n",
       "       [2.01200000e+03, 5.95000000e+01, 2.72000000e+02, 6.90000000e+01,\n",
       "        1.00000000e-02, 7.81842153e+01, 6.70000000e+01, 2.78700000e+03,\n",
       "        1.76000000e+01, 9.30000000e+01, 6.70000000e+01, 8.52000000e+00,\n",
       "        6.70000000e+01, 1.00000000e-01, 6.69959000e+02, 3.69695800e+06,\n",
       "        1.79000000e+01, 1.80000000e+01, 4.63000000e-01, 9.80000000e+00,\n",
       "        0.00000000e+00, 1.00000000e+00],\n",
       "       [2.01100000e+03, 5.92000000e+01, 2.75000000e+02, 7.10000000e+01,\n",
       "        1.00000000e-02, 7.09710870e+00, 6.80000000e+01, 3.01300000e+03,\n",
       "        1.72000000e+01, 9.70000000e+01, 6.80000000e+01, 7.87000000e+00,\n",
       "        6.80000000e+01, 1.00000000e-01, 6.35372310e+01, 2.97859900e+06,\n",
       "        1.82000000e+01, 1.82000000e+01, 4.54000000e-01, 9.50000000e+00,\n",
       "        0.00000000e+00, 1.00000000e+00]])"
      ]
     },
     "execution_count": 11,
     "metadata": {},
     "output_type": "execute_result"
    }
   ],
   "source": [
    "matrix = np.array(dataset.values, 'float')\n",
    "matrix[0:5,:]"
   ]
  },
  {
   "cell_type": "markdown",
   "id": "c39ced63",
   "metadata": {},
   "source": [
    "# Taking the Income composition of resources column as the feature for univariate linear regresion"
   ]
  },
  {
   "cell_type": "markdown",
   "id": "a5b41a54",
   "metadata": {},
   "source": [
    "Out of all columns income composition of resources seems to correlate more with the output labels, therefore i have chosen that for linear regression"
   ]
  },
  {
   "cell_type": "code",
   "execution_count": 12,
   "id": "b477aa69",
   "metadata": {},
   "outputs": [
    {
     "data": {
      "image/png": "[encoded data removed]",
      "text/plain": [
       "<Figure size 432x288 with 1 Axes>"
      ]
     },
     "metadata": {
      "needs_background": "light"
     },
     "output_type": "display_data"
    }
   ],
   "source": [
    "y = matrix[:, 1]    # Selecting the target column.\n",
    "x = matrix[:, 18]   # Selecting the 'income composition of resources column' for training univariate linear regression.\n",
    "mean = np.mean(x)\n",
    "\n",
    "for i in range(len(x)):   #Fixing zero values to get a better model.\n",
    "    if(x[i] == 0.0):\n",
    "        x[i] = mean\n",
    "        \n",
    "x = x / np.max(x)\n",
    "plt.plot(x,y,'bo')\n",
    "plt.grid()\n",
    "plt.xlabel('Income composition of resources')\n",
    "plt.ylabel('Life expectancy')\n",
    "plt.show()"
   ]
  },
  {
   "cell_type": "code",
   "execution_count": 13,
   "id": "d817c63f",
   "metadata": {},
   "outputs": [],
   "source": [
    "indices = list(range(x.shape[0]))          #Train Test Split implementation.\n",
    "num_training_indices = int(0.8 * x.shape[0])\n",
    "np.random.shuffle(indices)\n",
    "train_indices = indices[:num_training_indices]\n",
    "test_indices = indices[num_training_indices:]\n",
    "\n",
    "x_train, x_test = x[train_indices], x[test_indices]\n",
    "y_train, y_test = y[train_indices], y[test_indices]"
   ]
  },
  {
   "cell_type": "markdown",
   "id": "ea672ddb",
   "metadata": {},
   "source": [
    "# Closed Form Solution:"
   ]
  },
  {
   "cell_type": "code",
   "execution_count": 14,
   "id": "8efeb2e1",
   "metadata": {},
   "outputs": [
    {
     "name": "stdout",
     "output_type": "stream",
     "text": [
      "48.50299249062937 35.60321269541896\n"
     ]
    }
   ],
   "source": [
    "\n",
    "x_dummy = np.zeros((len(x_train), 2))\n",
    "x_dummy[:,1] = 1\n",
    "x_dummy[:,0] = x_train\n",
    "\n",
    "#From y = m * x + b\n",
    "\n",
    "m, b = np.linalg.inv(x_dummy.T.dot(x_dummy)).dot((x_dummy.T.dot(y_train)))\n",
    "\n",
    "print(m, b)\n",
    "\n",
    "#Testing on test data\n",
    "yhat = m * x_test + b"
   ]
  },
  {
   "cell_type": "markdown",
   "id": "9543c672",
   "metadata": {},
   "source": [
    "# Error calculation for closed form solution:"
   ]
  },
  {
   "cell_type": "code",
   "execution_count": 15,
   "id": "640b806e",
   "metadata": {
    "scrolled": true
   },
   "outputs": [
    {
     "name": "stdout",
     "output_type": "stream",
     "text": [
      "Mean squared error: 29.302950056343185\n",
      "Mean absolute error: 3.848818939580993\n"
     ]
    }
   ],
   "source": [
    "print(\"Mean squared error:\", mean_squared_error(y_test, yhat))\n",
    "print(\"Mean absolute error:\", mean_absolute_error(y_test, yhat))"
   ]
  },
  {
   "cell_type": "markdown",
   "id": "edca7348",
   "metadata": {},
   "source": [
    "# Gradient descent solution:\n",
    "\n"
   ]
  },
  {
   "cell_type": "code",
   "execution_count": 16,
   "id": "7a0aa123",
   "metadata": {},
   "outputs": [
    {
     "data": {
      "image/png": "[encoded data removed]",
      "text/plain": [
       "<Figure size 432x288 with 1 Axes>"
      ]
     },
     "metadata": {
      "needs_background": "light"
     },
     "output_type": "display_data"
    }
   ],
   "source": [
    "alpha = 0.001 #Learning rate\n",
    "\n",
    "iterations = 5000 #Number of iterations\n",
    "\n",
    "m, b = 20, 20\n",
    "costs = []\n",
    "for i in range(iterations):\n",
    "    yhat = m * x_train + b\n",
    "    cost = np.mean((y_train - yhat)**2)\n",
    "    costs.append(cost)\n",
    "    dm = (1 / len(x_train)) * (-2 * y_train.T@x_train +2 * m * x_train.T@x_train + 2 * b * np.sum(x_train)) #Calculating gradient i.e. first derivative of cost function\n",
    "    db = (1 / len(x_train)) * (-2 * np.sum(y_train)+2 * m * np.sum(x_train) + 2 * len(x_train) * b )\n",
    "    \n",
    "    m = m - alpha*dm \n",
    "    b = b - alpha*db\n",
    "    \n",
    "plt.plot(costs)\n",
    "plt.grid()\n",
    "plt.xlabel('Number of iterations')\n",
    "plt.ylabel('Cost function')\n",
    "plt.show()\n",
    "\n",
    "y_result = m * x_test + b"
   ]
  },
  {
   "cell_type": "markdown",
   "id": "bccabfd3",
   "metadata": {},
   "source": [
    "# Error Calculation for gradient descent solution:"
   ]
  },
  {
   "cell_type": "code",
   "execution_count": 17,
   "id": "38df4ebb",
   "metadata": {},
   "outputs": [
    {
     "name": "stdout",
     "output_type": "stream",
     "text": [
      "Mean squared error: 32.117029553023265\n",
      "Mean absolute error: 3.9605690385027232\n"
     ]
    }
   ],
   "source": [
    "print(\"Mean squared error:\", mean_squared_error(y_test, y_result))\n",
    "print(\"Mean absolute error:\", mean_absolute_error(y_test, y_result))"
   ]
  },
  {
   "cell_type": "markdown",
   "id": "f3fba853",
   "metadata": {},
   "source": [
    "# Newtons' method optimisation:"
   ]
  },
  {
   "cell_type": "code",
   "execution_count": 18,
   "id": "d68c3c9e",
   "metadata": {},
   "outputs": [
    {
     "data": {
      "image/png": "[encoded data removed]",
      "text/plain": [
       "<Figure size 432x288 with 1 Axes>"
      ]
     },
     "metadata": {
      "needs_background": "light"
     },
     "output_type": "display_data"
    }
   ],
   "source": [
    "alpha = 0.0005 #Learning rate\n",
    "\n",
    "iterations = 5000 #Number of iterations\n",
    "\n",
    "m, b = 20, 20\n",
    "costs = []\n",
    "for i in range(iterations):\n",
    "    yhat = m * x_train + b\n",
    "    \n",
    "    cost = np.mean((y_train - yhat)**2)\n",
    "    \n",
    "    costs.append(cost)\n",
    "    \n",
    "    dm = (1 / len(x_train)) * (-2 * y_train.T@x_train +2 * m * x_train.T@x_train + 2 * b * np.sum(x_train))  #Calculating gradient i.e. first derivative of cost function\n",
    "    \n",
    "    db = (1 / len(x_train)) * (-2 * np.sum(y_train)+2 * m * np.sum(x_train) + 2 * len(x_train) * b )\n",
    "    \n",
    "    hm = (2 * np.dot(x_train.T, x_train))   # Hessian Calculation\n",
    "    \n",
    "    hb = 2\n",
    "    \n",
    "    m = m - (1/hm) * dm \n",
    "    \n",
    "    b = b - alpha * (1/hb) * db\n",
    "    \n",
    "plt.plot(costs)\n",
    "plt.grid()\n",
    "plt.xlabel('Number of iterations')\n",
    "plt.ylabel('Cost function')\n",
    "plt.show()\n",
    "\n",
    "y_result = m * x_test + b"
   ]
  },
  {
   "cell_type": "markdown",
   "id": "f0485f5a",
   "metadata": {},
   "source": [
    "# Error Calculation for Newton's method optimisation for Univariate Linear Regression:"
   ]
  },
  {
   "cell_type": "code",
   "execution_count": 19,
   "id": "a93e3193",
   "metadata": {},
   "outputs": [
    {
     "name": "stdout",
     "output_type": "stream",
     "text": [
      "Mean squared error: 30.010794659628914\n",
      "Mean absolute error: 3.880848500628009\n"
     ]
    }
   ],
   "source": [
    "print(\"Mean squared error:\", mean_squared_error(y_test, y_result))\n",
    "print(\"Mean absolute error:\", mean_absolute_error(y_test, y_result))"
   ]
  },
  {
   "cell_type": "markdown",
   "id": "6907997a",
   "metadata": {},
   "source": [
    "# Multivariate Linear Regression:"
   ]
  },
  {
   "cell_type": "code",
   "execution_count": 20,
   "id": "46af0617",
   "metadata": {},
   "outputs": [],
   "source": [
    "y = dataset[\"Life expectancy \"].values\n",
    "x = dataset[[\" BMI \",\"Polio\", \"Diphtheria \", \"Income composition of resources\"]].values\n",
    "n = len(y)"
   ]
  },
  {
   "cell_type": "code",
   "execution_count": 21,
   "id": "c09dea43",
   "metadata": {},
   "outputs": [
    {
     "data": {
      "text/plain": [
       "[<matplotlib.lines.Line2D at 0x7f01d484ad60>]"
      ]
     },
     "execution_count": 21,
     "metadata": {},
     "output_type": "execute_result"
    },
    {
     "data": {
      "image/png": "[encoded data removed]",
      "text/plain": [
       "<Figure size 432x288 with 4 Axes>"
      ]
     },
     "metadata": {
      "needs_background": "light"
     },
     "output_type": "display_data"
    }
   ],
   "source": [
    "fig, axes = plt.subplots(2,2)\n",
    "\n",
    "for i in range(4):\n",
    "    mean = np.mean(x[:,i])\n",
    "    for j in range(len(x[:,i])):\n",
    "        if(x[:,i][j] == 0):\n",
    "            x[:,i][j] = mean\n",
    "\n",
    "axes[0, 0].plot(x[:,0],y,'o')\n",
    "axes[0, 1].plot(x[:,1],y,'o')\n",
    "axes[1, 0].plot(x[:,2],y,'o')\n",
    "axes[1, 1].plot(x[:,3],y,'o')"
   ]
  },
  {
   "cell_type": "code",
   "execution_count": 22,
   "id": "29e9ddfa",
   "metadata": {},
   "outputs": [
    {
     "name": "stdout",
     "output_type": "stream",
     "text": [
      "(2888, 4)\n",
      "(2888,)\n"
     ]
    }
   ],
   "source": [
    "print(x.shape)\n",
    "print(y.shape)"
   ]
  },
  {
   "cell_type": "code",
   "execution_count": 23,
   "id": "b0f2e5d2",
   "metadata": {},
   "outputs": [
    {
     "name": "stdout",
     "output_type": "stream",
     "text": [
      "(2888, 5)\n",
      "(2888, 1)\n"
     ]
    }
   ],
   "source": [
    "X = np.append(np.ones((len(x), 1)), x, axis = 1)\n",
    "Y = np.array(y).reshape((len(y), 1))\n",
    "print(X.shape)\n",
    "print(Y.shape)"
   ]
  },
  {
   "cell_type": "code",
   "execution_count": 24,
   "id": "427f737c",
   "metadata": {},
   "outputs": [],
   "source": [
    "indices = np.array(range(len(X)))            # Train test split implementation.\n",
    "\n",
    "num_training_indices = int(0.8 * len(X))\n",
    "np.random.shuffle(indices)\n",
    "train_indices = indices[0:num_training_indices]\n",
    "test_indices = indices[num_training_indices: len(X)]\n",
    "\n",
    "x_train, x_test = X[train_indices, :], X[test_indices, :]\n",
    "y_train, y_test = Y[train_indices, :], Y[test_indices, :]"
   ]
  },
  {
   "cell_type": "markdown",
   "id": "f5f06e88",
   "metadata": {},
   "source": [
    "## Closed Form Solution:"
   ]
  },
  {
   "cell_type": "code",
   "execution_count": 25,
   "id": "56d77ffc",
   "metadata": {},
   "outputs": [],
   "source": [
    "w = np.dot(np.linalg.inv(np.dot(x_train.T,x_train)),np.dot(x_train.T,y_train))     # Closed form method calculation i.e. w = (X.T . X)^-1 . X.T . Y\n",
    "\n",
    "yhat = np.dot(x_test, w)"
   ]
  },
  {
   "cell_type": "markdown",
   "id": "f3e935cf",
   "metadata": {},
   "source": [
    "# Error Calculation for closed form solution:"
   ]
  },
  {
   "cell_type": "code",
   "execution_count": 26,
   "id": "0885ffe5",
   "metadata": {},
   "outputs": [
    {
     "name": "stdout",
     "output_type": "stream",
     "text": [
      "Mean squared error: 25.669865788764533\n",
      "Mean absolute error: 3.7785597069545127\n"
     ]
    }
   ],
   "source": [
    "print(\"Mean squared error:\", mean_squared_error(yhat, y_test))\n",
    "print(\"Mean absolute error:\", mean_absolute_error(yhat, y_test))"
   ]
  },
  {
   "cell_type": "markdown",
   "id": "fc223f4d",
   "metadata": {},
   "source": [
    "# Gradient descent solution:"
   ]
  },
  {
   "cell_type": "code",
   "execution_count": 27,
   "id": "5c458dfc",
   "metadata": {},
   "outputs": [
    {
     "data": {
      "image/png": "[encoded data removed]",
      "text/plain": [
       "<Figure size 432x288 with 1 Axes>"
      ]
     },
     "metadata": {
      "needs_background": "light"
     },
     "output_type": "display_data"
    }
   ],
   "source": [
    "for i in range(5):\n",
    "    x_train[:,i] /= np.max(x_train[:,i])\n",
    "    x_test[:,i] /= np.max(x_test[:,i])\n",
    "    \n",
    "theta = np.array([0] * 5)\n",
    "\n",
    "m = len(x_train)\n",
    "\n",
    "def cost_function(x_train, y_train, B):\n",
    "    m = len(y_train)\n",
    "    J = np.sum((x_train.dot(B) - y_train)**2) / m\n",
    "    return J\n",
    "\n",
    "def gradient_descent(x_train, y_train, B, alpha, iterations):\n",
    "    costs = []\n",
    "    m = len(y_train)\n",
    "    \n",
    "    for i in range(iterations):\n",
    "        h = x_train.dot(B)    #predicted 'y' value.\n",
    "        h = h.reshape(-1,1)\n",
    "        \n",
    "        loss = h - y_train    # difference between predicted value and given value.\n",
    "\n",
    "        gradient = (x_train.T.dot(loss)) * 2 / m    # First derivative of the cost function\n",
    "        B = B.reshape(-1,1)\n",
    "        B = B - alpha * gradient                  # iterative step for calculating B in Y = B.X\n",
    "        cost = cost_function(x_train, y_train, B)  # Calculating cost\n",
    "        costs.append(cost)\n",
    "    \n",
    "    return B, costs\n",
    "\n",
    "\n",
    "alpha = 0.01\n",
    "iterations = 10000\n",
    "\n",
    "new_theta, cost_history = gradient_descent(x_train, y_train, theta, alpha, iterations)  #Predicting the output for test data.\n",
    "\n",
    "yhat = np.dot(x_test, new_theta)\n",
    "\n",
    "plt.plot(cost_history)\n",
    "plt.xlabel('Iterations')\n",
    "plt.ylabel('Cost')\n",
    "plt.show()\n"
   ]
  },
  {
   "cell_type": "markdown",
   "id": "38b0b94e",
   "metadata": {},
   "source": [
    "# Error Calculation for gradient descent method:"
   ]
  },
  {
   "cell_type": "code",
   "execution_count": 28,
   "id": "c7e6a967",
   "metadata": {},
   "outputs": [
    {
     "name": "stdout",
     "output_type": "stream",
     "text": [
      "Mean squared error: 25.829198000155476\n",
      "Mean absolute error: 3.787551232050484\n"
     ]
    }
   ],
   "source": [
    "print(\"Mean squared error:\", mean_squared_error(yhat, y_test))\n",
    "print(\"Mean absolute error:\", mean_absolute_error(yhat, y_test))"
   ]
  },
  {
   "cell_type": "markdown",
   "id": "4284b13b",
   "metadata": {},
   "source": [
    "# Newton's method for optimisation:"
   ]
  },
  {
   "cell_type": "code",
   "execution_count": 29,
   "id": "b9bff742",
   "metadata": {},
   "outputs": [
    {
     "data": {
      "image/png": "[encoded data removed]",
      "text/plain": [
       "<Figure size 432x288 with 1 Axes>"
      ]
     },
     "metadata": {
      "needs_background": "light"
     },
     "output_type": "display_data"
    }
   ],
   "source": [
    "theta = np.array([0] * 5)\n",
    "\n",
    "m = len(x_train)\n",
    "\n",
    "def cost_function(x_train, y_train, B):\n",
    "    m = len(y_train)\n",
    "    J = np.sum((x_train.dot(B) - y_train)**2) / m\n",
    "    return J\n",
    "\n",
    "def gradient_descent(x_train, y_train, B, alpha, iterations):\n",
    "    costs = []\n",
    "    m = len(y_train)\n",
    "    \n",
    "    for i in range(iterations):\n",
    "        h = x_train.dot(B)  #predicted 'y' value.\n",
    "        h = h.reshape(-1,1)\n",
    "        loss = h - y_train    # difference between predicted value and given value.\n",
    "        \n",
    "        gradient = (x_train.T.dot(loss)) * 2 / m  # First derivative of the cost function\n",
    "        \n",
    "        H = 2 * np.dot(x_train.T, x_train)   # Second derivate of cost function to create Hessian.\n",
    "        B = B.reshape(-1,1)\n",
    "        B = B - np.dot(np.linalg.inv(H), gradient)   # iterative step for calculating B in Y = B.X\n",
    "        cost = cost_function(x_train, y_train, B)   # Calculating cost\n",
    "        costs.append(cost)\n",
    "    \n",
    "    return B, costs\n",
    "\n",
    "\n",
    "iterations = 10000\n",
    "\n",
    "new_theta, cost_history = gradient_descent(x_train, y_train, theta, alpha, iterations)  #Predicting the output for test data.\n",
    "\n",
    "yhat = np.dot(x_test, new_theta)\n",
    "\n",
    "plt.plot(cost_history)\n",
    "plt.xlabel('Iterations')\n",
    "plt.ylabel('Cost')\n",
    "plt.show()"
   ]
  },
  {
   "cell_type": "markdown",
   "id": "c4129f4d",
   "metadata": {},
   "source": [
    "# Error Calculation for Newton's method:"
   ]
  },
  {
   "cell_type": "code",
   "execution_count": 30,
   "id": "671902bb",
   "metadata": {},
   "outputs": [
    {
     "name": "stdout",
     "output_type": "stream",
     "text": [
      "Mean squared error: 25.956308839240794\n",
      "Mean absolute error: 3.8317837798835304\n"
     ]
    }
   ],
   "source": [
    "print(\"Mean squared error:\", mean_squared_error(yhat, y_test))\n",
    "print(\"Mean absolute error:\", mean_absolute_error(yhat, y_test))"
   ]
  }
 ],
 "metadata": {
  "kernelspec": {
   "display_name": "Python 3 (ipykernel)",
   "language": "python",
   "name": "python3"
  },
  "language_info": {
   "codemirror_mode": {
    "name": "ipython",
    "version": 3
   },
   "file_extension": ".py",
   "mimetype": "text/x-python",
   "name": "python",
   "nbconvert_exporter": "python",
   "pygments_lexer": "ipython3",
   "version": "3.8.10"
  }
 },
 "nbformat": 4,
 "nbformat_minor": 5
}
